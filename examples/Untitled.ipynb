{
 "cells": [
  {
   "cell_type": "code",
   "execution_count": 1,
   "metadata": {},
   "outputs": [],
   "source": [
    "%matplotlib inline\n",
    "import os\n",
    "import numpy as np\n",
    "import xarray as xr\n",
    "import dask\n",
    "\n",
    "import matplotlib.pyplot as plt\n",
    "from collections import OrderedDict\n",
    "\n",
    "from itertools import product\n",
    "from functools import partial\n",
    "\n",
    "import obm"
   ]
  },
  {
   "cell_type": "markdown",
   "metadata": {},
   "source": [
    "Consider amplitude of thermal and biological forcing"
   ]
  },
  {
   "cell_type": "code",
   "execution_count": 2,
   "metadata": {},
   "outputs": [],
   "source": [
    "model = obm.onebox.surface_mixed_layer()"
   ]
  },
  {
   "cell_type": "code",
   "execution_count": 19,
   "metadata": {},
   "outputs": [],
   "source": [
    "ncp_harmonic = partial(obm.forcing_tools.harmonic, mu=0., phase=-0.5, N=365, steps_per_period=365)\n",
    "sst_harmonic = partial(obm.forcing_tools.harmonic, mu=7., phase=-0.5, N=365, steps_per_period=365)\n",
    "\n",
    "forcing_func = lambda therm, bio: model.init_forcing(nday=365., dt=1., \n",
    "                                         NCP=ncp_harmonic(amp=bio), \n",
    "                                         TEMP=sst_harmonic(amp=therm))\n",
    "\n"
   ]
  },
  {
   "cell_type": "code",
   "execution_count": 22,
   "metadata": {},
   "outputs": [
    {
     "name": "stdout",
     "output_type": "stream",
     "text": [
      "CPU times: user 18.9 s, sys: 298 ms, total: 19.2 s\n",
      "Wall time: 19.3 s\n"
     ]
    }
   ],
   "source": [
    "%%time\n",
    "do_dask = False\n",
    "if do_dask:\n",
    "    model_run = dask.delayed(model.run)\n",
    "else:\n",
    "    model_run = model.run\n",
    "\n",
    "\n",
    "results = []\n",
    "case = []\n",
    "thermal_forcing = []\n",
    "biological_forcing = []\n",
    "\n",
    "\n",
    "\n",
    "state_init = [2088., 308.]\n",
    "for therm, bio in product(range(0, 1), range(0, 4)):\n",
    "    casename = f'orcas.gasex-t{therm:03d}-b{bio:03d}'\n",
    "    case.append(casename)\n",
    "    thermal_forcing.append(therm)\n",
    "    biological_forcing.append(bio)\n",
    "    \n",
    "    init_file = f'{casename}.npy'\n",
    "    init_option = 'fsolve'\n",
    "    \n",
    "    if os.path.exists(init_file) and not clobber:\n",
    "        init_option = 'file'\n",
    "        \n",
    "    out = model_run(time_stop=365., \n",
    "                    forcing=forcing_func(therm, bio),\n",
    "                    init_option=init_option,\n",
    "                    init_file=init_file,\n",
    "                    state_init=state_init)\n",
    "    \n",
    "    results.append(out)\n",
    "\n",
    "if do_dask:\n",
    "    results = dask.compute(*results)\n",
    "    \n",
    "case = xr.DataArray(case, dims=('case'), name='case')\n",
    "ds = xr.concat(results, dim=case)\n",
    "ds['thermal_forcing'] = xr.DataArray(thermal_forcing, dims=('case'))\n",
    "ds['biological_forcing'] = xr.DataArray(biological_forcing, dims=('case'))"
   ]
  },
  {
   "cell_type": "code",
   "execution_count": 26,
   "metadata": {},
   "outputs": [
    {
     "data": {
      "image/png": "[encoded data removed]",
      "text/plain": [
       "<Figure size 432x288 with 1 Axes>"
      ]
     },
     "metadata": {
      "needs_background": "light"
     },
     "output_type": "display_data"
    }
   ],
   "source": [
    "fig = plt.figure()\n",
    "ax = fig.add_subplot(111)\n",
    "for case in ds.case:\n",
    "    dsc = ds.sel(case=case)\n",
    "    ax.plot(dsc.TEMP)"
   ]
  },
  {
   "cell_type": "code",
   "execution_count": 15,
   "metadata": {},
   "outputs": [
    {
     "data": {
      "text/plain": [
       "[<matplotlib.lines.Line2D at 0x1190c9d30>]"
      ]
     },
     "execution_count": 15,
     "metadata": {},
     "output_type": "execute_result"
    },
    {
     "data": {
      "image/png": "[encoded data removed]",
      "text/plain": [
       "<Figure size 432x288 with 1 Axes>"
      ]
     },
     "metadata": {
      "needs_background": "light"
     },
     "output_type": "display_data"
    }
   ],
   "source": [
    "dsc.O2.plot()"
   ]
  },
  {
   "cell_type": "code",
   "execution_count": null,
   "metadata": {},
   "outputs": [],
   "source": [
    "out.O2.plot()"
   ]
  },
  {
   "cell_type": "code",
   "execution_count": null,
   "metadata": {},
   "outputs": [],
   "source": [
    "out.DIC.values[-1]"
   ]
  },
  {
   "cell_type": "code",
   "execution_count": null,
   "metadata": {},
   "outputs": [],
   "source": [
    "out.O2.values[-1]"
   ]
  },
  {
   "cell_type": "code",
   "execution_count": null,
   "metadata": {},
   "outputs": [],
   "source": [
    "out.NCP.plot()"
   ]
  },
  {
   "cell_type": "code",
   "execution_count": null,
   "metadata": {},
   "outputs": [],
   "source": []
  }
 ],
 "metadata": {
  "kernelspec": {
   "display_name": "DEV",
   "language": "python",
   "name": "dev"
  },
  "language_info": {
   "codemirror_mode": {
    "name": "ipython",
    "version": 3
   },
   "file_extension": ".py",
   "mimetype": "text/x-python",
   "name": "python",
   "nbconvert_exporter": "python",
   "pygments_lexer": "ipython3",
   "version": "3.7.3"
  }
 },
 "nbformat": 4,
 "nbformat_minor": 2
}
